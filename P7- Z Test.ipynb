{
 "cells": [
  {
   "cell_type": "code",
   "execution_count": 1,
   "id": "47183b8c",
   "metadata": {},
   "outputs": [],
   "source": [
    "# Aim : To perform hypothesis testing using Z test."
   ]
  },
  {
   "cell_type": "code",
   "execution_count": 2,
   "id": "db2dce2f",
   "metadata": {},
   "outputs": [],
   "source": [
    "# Name : Rohit V. Dadgal\n",
    "# class : 3rd year\n",
    "# Section : A\n",
    "# Roll No. : 18"
   ]
  },
  {
   "cell_type": "markdown",
   "id": "c83f2e90",
   "metadata": {},
   "source": [
    "# Z Test "
   ]
  },
  {
   "cell_type": "code",
   "execution_count": 3,
   "id": "5a8fc4c2",
   "metadata": {},
   "outputs": [],
   "source": [
    "ages=[10,20,35,50,28,40,55,18,16,55,30,25,43,18,30,28,14,24,16,17,32,35,26,27,65,18,43,23,21,20,19,70]"
   ]
  },
  {
   "cell_type": "code",
   "execution_count": 4,
   "id": "5872869a",
   "metadata": {},
   "outputs": [
    {
     "data": {
      "text/plain": [
       "32"
      ]
     },
     "execution_count": 4,
     "metadata": {},
     "output_type": "execute_result"
    }
   ],
   "source": [
    "len(ages)\n"
   ]
  },
  {
   "cell_type": "code",
   "execution_count": 5,
   "id": "5acf2547",
   "metadata": {},
   "outputs": [
    {
     "name": "stdout",
     "output_type": "stream",
     "text": [
      "30.34375\n"
     ]
    }
   ],
   "source": [
    "import numpy as np\n",
    "ages_mean=np.mean(ages)\n",
    "print(ages_mean)"
   ]
  },
  {
   "cell_type": "code",
   "execution_count": 6,
   "id": "83447040",
   "metadata": {},
   "outputs": [],
   "source": [
    "## Lets take sample\n",
    "\n",
    "sample_size=31\n",
    "age_sample=np.random.choice(ages,sample_size)"
   ]
  },
  {
   "cell_type": "code",
   "execution_count": 7,
   "id": "bb0d2773",
   "metadata": {},
   "outputs": [
    {
     "data": {
      "text/plain": [
       "array([10, 14, 70, 50, 27, 28, 28, 65, 26, 20, 21, 30, 23, 43, 43, 40, 18,\n",
       "       20, 28, 18, 43, 35, 55, 55, 19, 25, 10, 27, 35, 19, 23])"
      ]
     },
     "execution_count": 7,
     "metadata": {},
     "output_type": "execute_result"
    }
   ],
   "source": [
    "age_sample"
   ]
  },
  {
   "cell_type": "code",
   "execution_count": 8,
   "id": "8841ecf6",
   "metadata": {},
   "outputs": [],
   "source": [
    "# from scipy.stats import ztest_1samp"
   ]
  },
  {
   "cell_type": "code",
   "execution_count": 9,
   "id": "0b728bd2",
   "metadata": {},
   "outputs": [
    {
     "name": "stdout",
     "output_type": "stream",
     "text": [
      "ztest 11.28422812710885\n",
      "P-value: 1.5701376272298335e-29\n"
     ]
    }
   ],
   "source": [
    "from statsmodels.stats import weightstats as stests\n",
    "\n",
    "# Perform one-sample z-test\n",
    "ztest, p_value = stests.ztest(age_sample)\n",
    "\n",
    "# Print the results\n",
    "print(\"ztest\", ztest)\n",
    "print(\"P-value:\", p_value)\n"
   ]
  },
  {
   "cell_type": "code",
   "execution_count": 10,
   "id": "90c47f2c",
   "metadata": {},
   "outputs": [
    {
     "name": "stdout",
     "output_type": "stream",
     "text": [
      " we are rejecting null hypothesis\n"
     ]
    }
   ],
   "source": [
    "if p_value < 0.05:    # alpha value is 0.05 or 5%    (Level of significance)\n",
    "    print(\" we are rejecting null hypothesis\")\n",
    "else:\n",
    "    print(\"we are accepting null hypothesis\")"
   ]
  },
  {
   "cell_type": "code",
   "execution_count": null,
   "id": "732b13be",
   "metadata": {},
   "outputs": [],
   "source": []
  }
 ],
 "metadata": {
  "kernelspec": {
   "display_name": "Python 3 (ipykernel)",
   "language": "python",
   "name": "python3"
  },
  "language_info": {
   "codemirror_mode": {
    "name": "ipython",
    "version": 3
   },
   "file_extension": ".py",
   "mimetype": "text/x-python",
   "name": "python",
   "nbconvert_exporter": "python",
   "pygments_lexer": "ipython3",
   "version": "3.11.4"
  }
 },
 "nbformat": 4,
 "nbformat_minor": 5
}
